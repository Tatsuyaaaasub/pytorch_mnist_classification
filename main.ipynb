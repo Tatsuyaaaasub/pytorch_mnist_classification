{
 "cells": [
  {
   "cell_type": "markdown",
   "metadata": {},
   "source": [
    "# requirements\n",
    "\n",
    "torch\n",
    "\n",
    "torchvision"
   ]
  },
  {
   "cell_type": "markdown",
   "metadata": {},
   "source": [
    "## パラメータの設定、MNISTデータセットの読み込み"
   ]
  },
  {
   "cell_type": "code",
   "execution_count": 17,
   "metadata": {},
   "outputs": [],
   "source": [
    "import torch\n",
    "import torchvision\n",
    "import torch.nn as nn\n",
    "\n",
    "epochs = 10\n",
    "batch_size = 100\n",
    "device = \"cuda:0\" if torch.cuda.is_available() else \"cpu\"\n",
    "\n",
    "trainset = torchvision.datasets.MNIST(root=\"./data\", download=True, train=True, transform=torchvision.transforms.ToTensor())\n",
    "trainloader = torch.utils.data.DataLoader(trainset, batch_size=batch_size, shuffle=True)"
   ]
  },
  {
   "cell_type": "markdown",
   "metadata": {},
   "source": [
    "## モデルの定義"
   ]
  },
  {
   "cell_type": "code",
   "execution_count": 27,
   "metadata": {},
   "outputs": [],
   "source": [
    "class Net(nn.Module):\n",
    "    def __init__(self):\n",
    "        super().__init__()\n",
    "        self.fc1 = nn.Linear(784, 50)\n",
    "        self.fc2 = nn.Linear(50, 10)\n",
    "        self.relu = nn.ReLU()\n",
    "        \n",
    "    def forward(self, x):\n",
    "        x = x.view(-1, 784)\n",
    "        x = self.relu(self.fc1(x))\n",
    "        x = self.fc2(x)\n",
    "        return x"
   ]
  },
  {
   "cell_type": "markdown",
   "metadata": {},
   "source": [
    "## 学習"
   ]
  },
  {
   "cell_type": "code",
   "execution_count": 30,
   "metadata": {
    "scrolled": true
   },
   "outputs": [
    {
     "name": "stdout",
     "output_type": "stream",
     "text": [
      "epoch: 0, train_loss: 0.478\n",
      "epoch: 1, train_loss: 0.225\n",
      "epoch: 2, train_loss: 0.173\n",
      "epoch: 3, train_loss: 0.143\n",
      "epoch: 4, train_loss: 0.124\n",
      "epoch: 5, train_loss: 0.109\n",
      "epoch: 6, train_loss: 0.097\n",
      "epoch: 7, train_loss: 0.088\n",
      "epoch: 8, train_loss: 0.080\n",
      "epoch: 9, train_loss: 0.072\n"
     ]
    }
   ],
   "source": [
    "net = Net()\n",
    "net.to(device)\n",
    "\n",
    "criterion = nn.CrossEntropyLoss()\n",
    "optimizer = torch.optim.Adam(net.parameters())\n",
    "\n",
    "for epoch in range(epochs):\n",
    "    loss_tmp = 0\n",
    "    for i, data in enumerate(trainloader):\n",
    "        inputs, labels = data[0].to(device), data[1].to(device)\n",
    "        outputs = net(inputs)\n",
    "        loss = criterion(outputs, labels)\n",
    "        loss_tmp += loss.item()\n",
    "        \n",
    "        optimizer.zero_grad()\n",
    "        loss.backward()\n",
    "        optimizer.step()\n",
    "    print(\"epoch: {:}, train_loss: {:.3f}\".format(epoch, loss_tmp/(len(trainset)/batch_size)))"
   ]
  },
  {
   "cell_type": "code",
   "execution_count": 38,
   "metadata": {},
   "outputs": [
    {
     "name": "stdout",
     "output_type": "stream",
     "text": [
      "pred: 5, label: 5\n",
      "pred: 0, label: 0\n",
      "pred: 4, label: 4\n",
      "pred: 1, label: 1\n",
      "pred: 9, label: 9\n",
      "pred: 2, label: 2\n",
      "pred: 1, label: 1\n",
      "pred: 3, label: 3\n",
      "pred: 1, label: 1\n",
      "pred: 4, label: 4\n"
     ]
    }
   ],
   "source": [
    "for i in range(10):\n",
    "    pred = torch.argmax(net(trainset[i][0].to(device)))\n",
    "    print(\"pred: {:}, label: {:}\".format(pred, trainset[i][1]))"
   ]
  }
 ],
 "metadata": {
  "kernelspec": {
   "display_name": "Python 3",
   "language": "python",
   "name": "python3"
  },
  "language_info": {
   "codemirror_mode": {
    "name": "ipython",
    "version": 3
   },
   "file_extension": ".py",
   "mimetype": "text/x-python",
   "name": "python",
   "nbconvert_exporter": "python",
   "pygments_lexer": "ipython3",
   "version": "3.7.3"
  }
 },
 "nbformat": 4,
 "nbformat_minor": 2
}
